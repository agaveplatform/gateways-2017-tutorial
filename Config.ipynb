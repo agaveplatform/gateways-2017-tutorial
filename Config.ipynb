{
 "cells": [
  {
   "cell_type": "markdown",
   "metadata": {},
   "source": [
    "<h2>Setting Stuff Up</h2>\n",
    "\n",
    "Here we import some packages that we'll need in various places."
   ]
  },
  {
   "cell_type": "code",
   "execution_count": null,
   "metadata": {},
   "outputs": [],
   "source": [
    "!mkdir -p ~/agave\n",
    "\n",
    "%cd ~/agave\n",
    "\n",
    "!pip3 install --upgrade setvar\n",
    "\n",
    "import re\n",
    "import os\n",
    "import sys\n",
    "from setvar import *\n",
    "from time import sleep\n",
    "\n",
    "# This cell enables inline plotting in the notebook\n",
    "%matplotlib inline\n",
    "\n",
    "import matplotlib\n",
    "import numpy as np\n",
    "import matplotlib.pyplot as plt"
   ]
  },
  {
   "cell_type": "markdown",
   "metadata": {},
   "source": [
    "<h2>Set Variables</h2>\n",
    "\n",
    "The setvar() package gives us a bash-like way of setting environment variables in Python. It's a lot easier to type `PORT=10022` than it is to type `os.environ[\"PORT\"]=\"10022\"`. The setvar package also supports comments and running a command in the background and getting its output."
   ]
  },
  {
   "cell_type": "code",
   "execution_count": null,
   "metadata": {},
   "outputs": [],
   "source": [
    "setvar(\"\"\"\n",
    "MACHINE_IP=$VM_IPADDRESS\n",
    "MACHINE_NAME=jetstream\n",
    "DOMAIN=jetstream-cloud.org\n",
    "EMAIL=sbrandt@cct.lsu.edu\n",
    "AGAVE_USERNAME=$AGAVE_USERNAME\n",
    "MACHINE_USERNAME=jovyan\n",
    "PORT=$VM_PORT\n",
    "\n",
    "DOCKERHUB_NAME=stevenrbrandt\n",
    "WORK_DIR=/home/${MACHINE_USERNAME}\n",
    "HOME_DIR=/home/${MACHINE_USERNAME}\n",
    "SCRATCH_DIR=/home/${MACHINE_USERNAME}\n",
    "DEPLOYMENT_PATH=agave-deployment\n",
    "AGAVE_JSON_PARSER=jq\n",
    "\n",
    "APP_NAME=funwave-tvd-${MACHINE_NAME}-${AGAVE_USERNAME}\n",
    "STORAGE_MACHINE=${MACHINE_NAME}-storage-${AGAVE_USERNAME}\n",
    "EXEC_MACHINE=${MACHINE_NAME}-exec-${AGAVE_USERNAME}\n",
    "\"\"\")"
   ]
  },
  {
   "cell_type": "markdown",
   "metadata": {},
   "source": [
    "<h2>PushBullet</h2>\n",
    "If you wish to use pushbullet to receive status updates, then run the cell below and enter your pushbullet token."
   ]
  },
  {
   "cell_type": "code",
   "execution_count": null,
   "metadata": {},
   "outputs": [],
   "source": [
    "readpass(\"PBTOK\")"
   ]
  },
  {
   "cell_type": "markdown",
   "metadata": {},
   "source": [
    "<h2>Agave Password</h2>\n",
    "\n",
    "We'll be running several commands that require the Agave password. We'll store it here for convenience."
   ]
  },
  {
   "cell_type": "code",
   "execution_count": null,
   "metadata": {},
   "outputs": [],
   "source": [
    "readpass(\"AGAVE_PASSWD\")"
   ]
  },
  {
   "cell_type": "code",
   "execution_count": null,
   "metadata": {
    "collapsed": true
   },
   "outputs": [],
   "source": []
  }
 ],
 "metadata": {
  "kernelspec": {
   "display_name": "Python 3",
   "language": "python",
   "name": "python3"
  },
  "language_info": {
   "codemirror_mode": {
    "name": "ipython",
    "version": 3
   },
   "file_extension": ".py",
   "mimetype": "text/x-python",
   "name": "python",
   "nbconvert_exporter": "python",
   "pygments_lexer": "ipython3",
   "version": "3.6.2"
  }
 },
 "nbformat": 4,
 "nbformat_minor": 2
}
