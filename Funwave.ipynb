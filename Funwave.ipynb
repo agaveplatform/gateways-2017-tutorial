{
 "cells": [
  {
   "cell_type": "markdown",
   "metadata": {},
   "source": [
    "<h2>Funwave-TVD</h2>\n",
    "Funwave-TVD is a code to simulate the shallow water and Boussinesq equations written by Dr. Fengyan Shi. It is capable of running a variety of complex ocean simulations. For more information, see Dr. Fengyan Shi's website: https://fengyanshi.github.io/shi_website/_build/html/funwave.html\n",
    "\n",
    "We will use it as our example scientific code for this tutorial because it is reasonably complex, real scientific code but can be compiled and run quickly."
   ]
  },
  {
   "cell_type": "code",
   "execution_count": null,
   "metadata": {},
   "outputs": [],
   "source": [
    "!mkdir -p ~/agave\n",
    "\n",
    "%cd ~/agave\n",
    "\n",
    "!pip3 install --upgrade setvar\n",
    "\n",
    "import re\n",
    "import os\n",
    "import sys\n",
    "from setvar import *\n",
    "from time import sleep\n",
    "\n",
    "# This cell enables inline plotting in the notebook\n",
    "%matplotlib inline\n",
    "\n",
    "import matplotlib\n",
    "import numpy as np\n",
    "import matplotlib.pyplot as plt\n",
    "!auth-tokens-refresh"
   ]
  },
  {
   "cell_type": "markdown",
   "metadata": {},
   "source": [
    "The parameter file for Funwave-TVD is called \"input.txt\". Here we create it using writefile. You don't need to understand the details of how this file for this tutorial."
   ]
  },
  {
   "cell_type": "code",
   "execution_count": null,
   "metadata": {},
   "outputs": [],
   "source": [
    "writefile(\"input.txt\",\"\"\"\n",
    "!INPUT FILE FOR FUNWAVE_TVD\n",
    "  ! NOTE: all input parameter are capital sensitive\n",
    "  ! --------------------TITLE-------------------------------------\n",
    "  ! title only for log file\n",
    "TITLE = VESSEL\n",
    "  ! -------------------HOT START---------------------------------\n",
    "HOT_START = F\n",
    "FileNumber_HOTSTART = 1\n",
    "  ! -------------------PARALLEL INFO-----------------------------\n",
    "  ! \n",
    "  !    PX,PY - processor numbers in X and Y\n",
    "  !    NOTE: make sure consistency with mpirun -np n (px*py)\n",
    "  !    \n",
    "PX = 4\n",
    "PY = 1\n",
    "  ! --------------------DEPTH-------------------------------------\n",
    "  ! Depth types, DEPTH_TYPE=DATA: from depth file\n",
    "  !              DEPTH_TYPE=FLAT: idealized flat, need depth_flat\n",
    "  !              DEPTH_TYPE=SLOPE: idealized slope, \n",
    "  !                                 need slope,SLP starting point, Xslp\n",
    "  !                                 and depth_flat\n",
    "DEPTH_TYPE = FLAT\n",
    "DEPTH_FLAT = 10.0\n",
    "  ! -------------------PRINT---------------------------------\n",
    "  ! PRINT*,\n",
    "  ! result folder\n",
    "RESULT_FOLDER = output/\n",
    "\n",
    "  ! ------------------DIMENSION-----------------------------\n",
    "  ! global grid dimension\n",
    "Mglob = 500\n",
    "Nglob = 100\n",
    "\n",
    "  ! ----------------- TIME----------------------------------\n",
    "  ! time: total computational time/ plot time / screen interval \n",
    "  ! all in seconds\n",
    "TOTAL_TIME = 10.0\n",
    "PLOT_INTV = 1.0\n",
    "PLOT_INTV_STATION = 50000.0\n",
    "SCREEN_INTV = 1.0\n",
    "HOTSTART_INTV = 360000000000.0\n",
    "\n",
    "WAVEMAKER = INI_GAU\n",
    "AMP = 3.0\n",
    "Xc = 250.0\n",
    "Yc = 50.0\n",
    "WID = 20.0\n",
    "\n",
    "  ! -----------------GRID----------------------------------\n",
    "  ! if use spherical grid, in decimal degrees\n",
    "  ! cartesian grid sizes\n",
    "DX = 1.0\n",
    "DY = 1.0\n",
    "  ! ----------------SHIP WAKES ----------------------------\n",
    "VESSEL_FOLDER = ./\n",
    "NumVessel = 2\n",
    "  ! -----------------OUTPUT-----------------------------\n",
    "ETA = T\n",
    "U = T\n",
    "V = T\n",
    "\"\"\")"
   ]
  },
  {
   "cell_type": "markdown",
   "metadata": {},
   "source": [
    "Here is a simple bash script to run the code...."
   ]
  },
  {
   "cell_type": "code",
   "execution_count": null,
   "metadata": {},
   "outputs": [],
   "source": [
    "writefile(\"run.sh\",\"\"\"\n",
    "#!/bin/bash\n",
    "export LD_LIBRARY_PATH=/usr/local/lib\n",
    "mkdir -p rundir\n",
    "cd ./rundir\n",
    "cp ../input.txt .\n",
    "mpirun -np 4 ~/FUNWAVE-TVD/src/funwave_vessel\n",
    "\"\"\")"
   ]
  },
  {
   "cell_type": "markdown",
   "metadata": {},
   "source": [
    "Here's how the average developer might run the code when doing their research."
   ]
  },
  {
   "cell_type": "code",
   "execution_count": null,
   "metadata": {},
   "outputs": [],
   "source": [
    "!scp -o \"StrictHostKeyChecking=no\" -P 10022 input.txt run.sh $VM_IPADDRESS:.\n",
    "!ssh -p 10022 $VM_IPADDRESS bash run.sh"
   ]
  },
  {
   "cell_type": "markdown",
   "metadata": {},
   "source": [
    "Here's how they might retrieve the data."
   ]
  },
  {
   "cell_type": "code",
   "execution_count": null,
   "metadata": {
    "collapsed": true
   },
   "outputs": [],
   "source": [
    "!scp -q -r -P 10022 $VM_IPADDRESS:rundir/output ."
   ]
  },
  {
   "cell_type": "code",
   "execution_count": null,
   "metadata": {},
   "outputs": [],
   "source": [
    "!ls output"
   ]
  },
  {
   "cell_type": "markdown",
   "metadata": {},
   "source": [
    "Now let's switch over to using Agave to run the code."
   ]
  },
  {
   "cell_type": "code",
   "execution_count": null,
   "metadata": {
    "collapsed": true
   },
   "outputs": [],
   "source": [
    "import runagavecmd as r"
   ]
  },
  {
   "cell_type": "code",
   "execution_count": null,
   "metadata": {},
   "outputs": [],
   "source": [
    "!files-upload -F input.txt -S ${STORAGE_MACHINE} ./\n",
    "r.runagavecmd(\"LD_LIBRARY_PATH=/usr/local/lib \"+\n",
    "            \"mpirun -np 4 /home/jovyan/FUNWAVE-TVD/src/funwave_vessel && \"+\n",
    "            \"tar czf output.tgz output\",\n",
    "            \"agave://${STORAGE_MACHINE}/input.txt\")"
   ]
  },
  {
   "cell_type": "markdown",
   "metadata": {},
   "source": [
    "Get the data back and visualize it."
   ]
  },
  {
   "cell_type": "code",
   "execution_count": null,
   "metadata": {},
   "outputs": [],
   "source": [
    "!rm -fr output output.tgz\n",
    "!jobs-output-get ${JOB_ID} output.tgz\n",
    "!tar xf output.tgz\n",
    "!ls output"
   ]
  },
  {
   "cell_type": "code",
   "execution_count": null,
   "metadata": {},
   "outputs": [],
   "source": [
    "data = np.genfromtxt(\"output/v_00003\")\n",
    "fig = plt.figure(figsize=(12,12))\n",
    "pltres = plt.imshow(data[::-1,:])\n",
    "plt.show()"
   ]
  },
  {
   "cell_type": "code",
   "execution_count": null,
   "metadata": {
    "collapsed": true
   },
   "outputs": [],
   "source": []
  }
 ],
 "metadata": {
  "kernelspec": {
   "display_name": "Python 3",
   "language": "python",
   "name": "python3"
  },
  "language_info": {
   "codemirror_mode": {
    "name": "ipython",
    "version": 3
   },
   "file_extension": ".py",
   "mimetype": "text/x-python",
   "name": "python",
   "nbconvert_exporter": "python",
   "pygments_lexer": "ipython3",
   "version": "3.6.2"
  }
 },
 "nbformat": 4,
 "nbformat_minor": 2
}
