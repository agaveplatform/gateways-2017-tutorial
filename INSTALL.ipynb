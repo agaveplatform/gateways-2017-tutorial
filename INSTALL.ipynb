{
 "cells": [
  {
   "cell_type": "markdown",
   "metadata": {},
   "source": [
    "# Tutorial installation  \n",
    "\n",
    "Please run this notebook to completion to install the latest version of the tutorial notebooks on this Jupyter server."
   ]
  },
  {
   "cell_type": "code",
   "execution_count": 3,
   "metadata": {},
   "outputs": [
    {
     "name": "stdout",
     "output_type": "stream",
     "text": [
      "/home/jovyan/tutorial-1508740098\n"
     ]
    }
   ],
   "source": [
    "# setting up a temp directory to checkout the git repository\n",
    "export TUTORIAL_FOLDER=\"$HOME/tutorial-$(date +%s)\"\n",
    "echo $TUTORIAL_FOLDER"
   ]
  },
  {
   "cell_type": "code",
   "execution_count": 1,
   "metadata": {
    "collapsed": true
   },
   "outputs": [],
   "source": [
    "# check out the git repository\n",
    "#git clone --depth 1 https://github.com/agaveplatform/gateways-2017-tutorial.git $TUTORIAL_FOLDER"
   ]
  },
  {
   "cell_type": "code",
   "execution_count": 4,
   "metadata": {},
   "outputs": [
    {
     "name": "stdout",
     "output_type": "stream",
     "text": [
      "cp: cannot stat '/home/jovyan/tutorial-1508740098/*.ipynb': No such file or directory\n"
     ]
    },
    {
     "ename": "",
     "evalue": "1",
     "output_type": "error",
     "traceback": []
    }
   ],
   "source": [
    "# the latest notebooks should all be present\n",
    "ls $TUTORIAL_FOLDER\n",
    "cp -rf $TUTORIAL_FOLDER/*.ipynb $HOME/"
   ]
  },
  {
   "cell_type": "code",
   "execution_count": null,
   "metadata": {
    "collapsed": true
   },
   "outputs": [],
   "source": [
    "ls -al "
   ]
  }
 ],
 "metadata": {
  "kernelspec": {
   "display_name": "Bash",
   "language": "bash",
   "name": "bash"
  },
  "language_info": {
   "codemirror_mode": "shell",
   "file_extension": ".sh",
   "mimetype": "text/x-sh",
   "name": "bash"
  }
 },
 "nbformat": 4,
 "nbformat_minor": 2
}
