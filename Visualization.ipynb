{
 "cells": [
  {
   "cell_type": "code",
   "execution_count": null,
   "metadata": {},
   "outputs": [],
   "source": [
    "%cd ~/agave"
   ]
  },
  {
   "cell_type": "markdown",
   "metadata": {},
   "source": [
    "<h2>Fun With Visualization</h2>\n",
    "\n",
    "The examples in this section are designed for use with Funwave's output, which is nothing more than an ascii array of floating point values separated by whitespace. This happens to be the ideal format for matplotlib's genfromtxt() function to consume."
   ]
  },
  {
   "cell_type": "code",
   "execution_count": null,
   "metadata": {},
   "outputs": [],
   "source": [
    "%cd ~/agave\n",
    "\n",
    "# IMPORT SOME USEFUL PACKAGES\n",
    "\n",
    "from mpl_toolkits.mplot3d import Axes3D\n",
    "import matplotlib.pyplot as plt\n",
    "from matplotlib import cm\n",
    "from matplotlib.ticker import LinearLocator, FormatStrFormatter\n",
    "import numpy as np\n",
    "from matplotlib import animation, rc\n",
    "from IPython.display import HTML\n",
    "rc('animation', html='html5')"
   ]
  },
  {
   "cell_type": "code",
   "execution_count": null,
   "metadata": {},
   "outputs": [],
   "source": [
    "# SLURP IN THE DATA\n",
    "\n",
    "frames = []\n",
    "for i in range(1,11):\n",
    "    frames += [np.genfromtxt(\"output/eta_%05d\" % i)]"
   ]
  },
  {
   "cell_type": "code",
   "execution_count": null,
   "metadata": {},
   "outputs": [],
   "source": [
    "# Your basic surface plot of the last frame \n",
    "\n",
    "f = frames[9]\n",
    "xv = np.linspace(0,f.shape[1],f.shape[1])\n",
    "yv = np.linspace(0,f.shape[0],f.shape[0])\n",
    "x2,y2 = np.meshgrid(xv,yv)\n",
    "fig = plt.figure(figsize=(12,10))\n",
    "ax = fig.gca(projection='3d')\n",
    "ax.clear()\n",
    "# This is the viewing angle, theta and phi\n",
    "ax.view_init(20,60)\n",
    "# For more colormaps, see https://matplotlib.org/examples/color/colormaps_reference.html\n",
    "# The strides make the image really sharp. They slow down the rendering, however.\n",
    "surf = ax.plot_surface(x2, y2, f, cmap=cm.coolwarm,\n",
    "                       linewidth=0, antialiased=False, rstride=1, cstride=1)\n",
    "fig.colorbar(surf)\n",
    "plt.show()"
   ]
  },
  {
   "cell_type": "code",
   "execution_count": null,
   "metadata": {},
   "outputs": [],
   "source": [
    "# Your basic animation of the color plot\n",
    "\n",
    "fig2, ax = plt.subplots(figsize=(12,12))\n",
    "\n",
    "def animate(i):\n",
    "    ax.clear()\n",
    "    pltres = plt.imshow(frames[i])\n",
    "    return pltres,\n",
    "\n",
    "anim = animation.FuncAnimation(fig2, animate, frames=10, interval=200, repeat=True)\n",
    "HTML(anim.to_html5_video())"
   ]
  },
  {
   "cell_type": "code",
   "execution_count": null,
   "metadata": {},
   "outputs": [],
   "source": [
    "# A rotating plot that cycles through the frames\n",
    "\n",
    "fig = plt.figure(figsize=(12,10))\n",
    "ax = fig.gca(projection='3d')\n",
    "zmin = np.min(frames[0])\n",
    "zmax = np.max(frames[0])\n",
    "for i in range(1,10):\n",
    "    zmin = min(zmin,np.min(frames[i]))\n",
    "    zmax = max(zmax,np.max(frames[i]))\n",
    "\n",
    "def animate(i):\n",
    "    global ax\n",
    "    ax.clear()\n",
    "    # Change the viewing angle\n",
    "    ax.view_init(20,i*6)\n",
    "    ax.set_zlim(top=zmax,bottom=zmin)\n",
    "    # Cycle through the frames\n",
    "    f = frames[i % 10]\n",
    "    # vmax and vmin control the color normalization\n",
    "    surf = ax.plot_surface(x2, y2, f, cmap=cm.coolwarm,\n",
    "                       linewidth=0, antialiased=False, vmax=zmax, vmin=zmin)\n",
    "    return surf,\n",
    "\n",
    "anim = animation.FuncAnimation(fig, animate, frames=36, interval=200, repeat=True)\n",
    "HTML(anim.to_html5_video())\n",
    "\n",
    "# Other things you might want to set: https://matplotlib.org/mpl_toolkits/mplot3d/api.html"
   ]
  },
  {
   "cell_type": "markdown",
   "metadata": {
    "collapsed": true
   },
   "source": [
    "<h3>A final word about movies.... </h3>\n",
    "There's a download button on the bottom right of the animations that will give you an mp4 file. You can use the ImageMagick conversion utility to turn that into an animated gif, suitable for pasting on your website."
   ]
  },
  {
   "cell_type": "markdown",
   "metadata": {},
   "source": [
    "However, surface plots aren't the only interesting kind of data to explore in funwave. Funwave also provides the wave direction vectors, u (x-direction) and v (y-direction). You can view the vector fields (with color-coded direction) using quiver."
   ]
  },
  {
   "cell_type": "code",
   "execution_count": null,
   "metadata": {},
   "outputs": [],
   "source": [
    "import matplotlib.pyplot as plt\n",
    "import numpy as np\n",
    "from numpy import ma\n",
    "\n",
    "U = np.genfromtxt(\"output/u_00010\")\n",
    "V = np.genfromtxt(\"output/v_00010\")\n",
    "C = np.abs(np.arctan2(U,V))\n",
    "\n",
    "plt.figure(figsize=(12,12))\n",
    "plt.title('Colors and Vectors')\n",
    "Q = plt.quiver(x2, y2, U, V, C, cmap=cm.inferno, units='width')\n",
    "plt.show()"
   ]
  },
  {
   "cell_type": "markdown",
   "metadata": {},
   "source": [
    "Because it's hard to see the vectors on the plot above, we zoom in on one section of the grid."
   ]
  },
  {
   "cell_type": "code",
   "execution_count": null,
   "metadata": {},
   "outputs": [],
   "source": [
    "# Adjust these numbers to zoom in on a different section of the grid.\n",
    "# If it doesn't work, reloading fixes.\n",
    "lox = 0\n",
    "hix = 20\n",
    "loy = 0\n",
    "hiy = 20\n",
    "\n",
    "plt.figure(figsize=(15,15))\n",
    "plt.title('Colors and Vectors: Closeup')\n",
    "Q = plt.quiver(x2[lox:hix,loy:hiy],\n",
    "               y2[lox:hix,loy:hiy], \n",
    "               U[lox:hix,loy:hiy],\n",
    "               V[lox:hix,loy:hiy],\n",
    "               C[lox:hix,loy:hiy], cmap=cm.inferno, units='width')\n",
    "plt.show()"
   ]
  },
  {
   "cell_type": "code",
   "execution_count": null,
   "metadata": {
    "collapsed": true
   },
   "outputs": [],
   "source": []
  }
 ],
 "metadata": {
  "kernelspec": {
   "display_name": "Python 3",
   "language": "python",
   "name": "python3"
  },
  "language_info": {
   "codemirror_mode": {
    "name": "ipython",
    "version": 3
   },
   "file_extension": ".py",
   "mimetype": "text/x-python",
   "name": "python",
   "nbconvert_exporter": "python",
   "pygments_lexer": "ipython3",
   "version": "3.6.2"
  }
 },
 "nbformat": 4,
 "nbformat_minor": 2
}
